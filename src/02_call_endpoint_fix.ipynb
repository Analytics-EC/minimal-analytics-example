{
 "cells": [
  {
   "cell_type": "markdown",
   "id": "e4a6eb19",
   "metadata": {},
   "source": [
    "# Cliente — Consulta del endpoint `/optimize`\n",
    "Solicitud **POST** al servicio FastAPI que publica el modelo de optimización de producción y distribución.\n",
    "> **Requisitos previos:** Tener el servicio corriendo:  \n",
    "> `uvicorn app:app --reload --port 8000`"
   ]
  },
  {
   "cell_type": "code",
   "execution_count": null,
   "id": "b2239cf9",
   "metadata": {},
   "outputs": [],
   "source": [
    "# pip install requests pandas"
   ]
  },
  {
   "cell_type": "code",
   "execution_count": 1,
   "id": "7b2375c2",
   "metadata": {},
   "outputs": [],
   "source": [
    "import os, json, requests\n",
    "import pandas as pd"
   ]
  },
  {
   "cell_type": "code",
   "execution_count": 7,
   "id": "6fbead06-33e5-421f-a912-5f619caa2ea5",
   "metadata": {},
   "outputs": [
    {
     "name": "stdout",
     "output_type": "stream",
     "text": [
      "Usando ENDPOINT: http://localhost:8000/optimize\n"
     ]
    }
   ],
   "source": [
    "# Configuración del endpoint (ajusta si desplegaste en otra URL/puerto)\n",
    "ENDPOINT = os.environ.get(\"SNACK_OPTIMIZER_ENDPOINT\", \"http://localhost:8000/optimize\")\n",
    "print(\"Usando ENDPOINT:\", ENDPOINT)"
   ]
  },
  {
   "cell_type": "markdown",
   "id": "9a41f95b",
   "metadata": {},
   "source": [
    "## Ejemplo"
   ]
  },
  {
   "cell_type": "code",
   "execution_count": 13,
   "id": "76a707ad",
   "metadata": {},
   "outputs": [],
   "source": [
    "# Payload de ejemplo (demanda)\n",
    "payload = {\n",
    "    \"dcs\": [\n",
    "        {\"dc\": \"CD_Norte\",  \"demand_kg\": 110000},\n",
    "        {\"dc\": \"CD_Centro\", \"demand_kg\":  55000},\n",
    "        {\"dc\": \"CD_Sur\",    \"demand_kg\":  35000}\n",
    "    ]\n",
    "}"
   ]
  },
  {
   "cell_type": "code",
   "execution_count": 4,
   "id": "a605719f-a542-4d17-b01c-6f58e427f2d0",
   "metadata": {},
   "outputs": [
    {
     "name": "stdout",
     "output_type": "stream",
     "text": [
      "{\n",
      "  \"dcs\": [\n",
      "    {\n",
      "      \"dc\": \"CD_Norte\",\n",
      "      \"demand_kg\": 110000\n",
      "    },\n",
      "    {\n",
      "      \"dc\": \"CD_Centro\",\n",
      "      \"demand_kg\": 55000\n",
      "    },\n",
      "    {\n",
      "      \"dc\": \"CD_Sur\",\n",
      "      \"demand_kg\": 35000\n",
      "    }\n",
      "  ]\n",
      "}\n"
     ]
    }
   ],
   "source": [
    "print(json.dumps(payload, indent=2, ensure_ascii=False))"
   ]
  },
  {
   "cell_type": "markdown",
   "id": "49ab710f",
   "metadata": {},
   "source": [
    "## Llamada al endpoint - resultados\n",
    "\n",
    "- `produce`: producción por planta (kg)\n",
    "- `ship`: embarques planta→CD (kg)\n",
    "- `short`: faltantes por CD (kg)\n",
    "- `total_cost` y `status` del solver"
   ]
  },
  {
   "cell_type": "code",
   "execution_count": 5,
   "id": "d4e8f75c",
   "metadata": {},
   "outputs": [],
   "source": [
    "def call_endpoint(endpoint: str, payload: dict, timeout: int = 60):\n",
    "    try:\n",
    "        r = requests.post(endpoint, json=payload, timeout=timeout)\n",
    "        r.raise_for_status()\n",
    "        return r.json()\n",
    "    except requests.exceptions.RequestException as e:\n",
    "        # Mensaje útil para diagnóstico\n",
    "        raise SystemExit(f\"Error al llamar al endpoint: {e}\\n\"\n",
    "                         f\"Verifica que el servidor FastAPI esté ejecutándose y accesible en {endpoint}.\")\n",
    "        \n"
   ]
  },
  {
   "cell_type": "code",
   "execution_count": 14,
   "id": "e2bd945d-0718-4f8e-828e-d0a4744d3407",
   "metadata": {},
   "outputs": [
    {
     "name": "stdout",
     "output_type": "stream",
     "text": [
      "Status: Optimal\n",
      "Costo total: 280301.0\n"
     ]
    }
   ],
   "source": [
    "res = call_endpoint(ENDPOINT, payload)\n",
    "print(\"Status:\", res.get(\"status\"))\n",
    "print(\"Costo total:\", round(res.get(\"total_cost\", 0.0), 2))"
   ]
  },
  {
   "cell_type": "code",
   "execution_count": 15,
   "id": "3d225ac7-8c28-4742-9150-3a1357ff43ab",
   "metadata": {},
   "outputs": [
    {
     "data": {
      "text/html": [
       "<div>\n",
       "<style scoped>\n",
       "    .dataframe tbody tr th:only-of-type {\n",
       "        vertical-align: middle;\n",
       "    }\n",
       "\n",
       "    .dataframe tbody tr th {\n",
       "        vertical-align: top;\n",
       "    }\n",
       "\n",
       "    .dataframe thead th {\n",
       "        text-align: right;\n",
       "    }\n",
       "</style>\n",
       "<table border=\"1\" class=\"dataframe\">\n",
       "  <thead>\n",
       "    <tr style=\"text-align: right;\">\n",
       "      <th></th>\n",
       "      <th>plant</th>\n",
       "      <th>produce_kg</th>\n",
       "    </tr>\n",
       "  </thead>\n",
       "  <tbody>\n",
       "    <tr>\n",
       "      <th>0</th>\n",
       "      <td>PlantA</td>\n",
       "      <td>114000.0</td>\n",
       "    </tr>\n",
       "    <tr>\n",
       "      <th>1</th>\n",
       "      <td>PlantB</td>\n",
       "      <td>83700.0</td>\n",
       "    </tr>\n",
       "  </tbody>\n",
       "</table>\n",
       "</div>"
      ],
      "text/plain": [
       "    plant  produce_kg\n",
       "0  PlantA    114000.0\n",
       "1  PlantB     83700.0"
      ]
     },
     "metadata": {},
     "output_type": "display_data"
    },
    {
     "data": {
      "text/html": [
       "<div>\n",
       "<style scoped>\n",
       "    .dataframe tbody tr th:only-of-type {\n",
       "        vertical-align: middle;\n",
       "    }\n",
       "\n",
       "    .dataframe tbody tr th {\n",
       "        vertical-align: top;\n",
       "    }\n",
       "\n",
       "    .dataframe thead th {\n",
       "        text-align: right;\n",
       "    }\n",
       "</style>\n",
       "<table border=\"1\" class=\"dataframe\">\n",
       "  <thead>\n",
       "    <tr style=\"text-align: right;\">\n",
       "      <th></th>\n",
       "      <th>plant</th>\n",
       "      <th>dc</th>\n",
       "      <th>ship_kg</th>\n",
       "    </tr>\n",
       "  </thead>\n",
       "  <tbody>\n",
       "    <tr>\n",
       "      <th>0</th>\n",
       "      <td>PlantA</td>\n",
       "      <td>CD_Norte</td>\n",
       "      <td>110000.0</td>\n",
       "    </tr>\n",
       "    <tr>\n",
       "      <th>1</th>\n",
       "      <td>PlantA</td>\n",
       "      <td>CD_Centro</td>\n",
       "      <td>4000.0</td>\n",
       "    </tr>\n",
       "    <tr>\n",
       "      <th>2</th>\n",
       "      <td>PlantB</td>\n",
       "      <td>CD_Centro</td>\n",
       "      <td>51000.0</td>\n",
       "    </tr>\n",
       "    <tr>\n",
       "      <th>3</th>\n",
       "      <td>PlantB</td>\n",
       "      <td>CD_Sur</td>\n",
       "      <td>32700.0</td>\n",
       "    </tr>\n",
       "  </tbody>\n",
       "</table>\n",
       "</div>"
      ],
      "text/plain": [
       "    plant         dc   ship_kg\n",
       "0  PlantA   CD_Norte  110000.0\n",
       "1  PlantA  CD_Centro    4000.0\n",
       "2  PlantB  CD_Centro   51000.0\n",
       "3  PlantB     CD_Sur   32700.0"
      ]
     },
     "metadata": {},
     "output_type": "display_data"
    },
    {
     "data": {
      "text/html": [
       "<div>\n",
       "<style scoped>\n",
       "    .dataframe tbody tr th:only-of-type {\n",
       "        vertical-align: middle;\n",
       "    }\n",
       "\n",
       "    .dataframe tbody tr th {\n",
       "        vertical-align: top;\n",
       "    }\n",
       "\n",
       "    .dataframe thead th {\n",
       "        text-align: right;\n",
       "    }\n",
       "</style>\n",
       "<table border=\"1\" class=\"dataframe\">\n",
       "  <thead>\n",
       "    <tr style=\"text-align: right;\">\n",
       "      <th></th>\n",
       "      <th>dc</th>\n",
       "      <th>short_kg</th>\n",
       "    </tr>\n",
       "  </thead>\n",
       "  <tbody>\n",
       "    <tr>\n",
       "      <th>0</th>\n",
       "      <td>CD_Norte</td>\n",
       "      <td>0.0</td>\n",
       "    </tr>\n",
       "    <tr>\n",
       "      <th>1</th>\n",
       "      <td>CD_Centro</td>\n",
       "      <td>0.0</td>\n",
       "    </tr>\n",
       "    <tr>\n",
       "      <th>2</th>\n",
       "      <td>CD_Sur</td>\n",
       "      <td>2300.0</td>\n",
       "    </tr>\n",
       "  </tbody>\n",
       "</table>\n",
       "</div>"
      ],
      "text/plain": [
       "          dc  short_kg\n",
       "0   CD_Norte       0.0\n",
       "1  CD_Centro       0.0\n",
       "2     CD_Sur    2300.0"
      ]
     },
     "metadata": {},
     "output_type": "display_data"
    }
   ],
   "source": [
    "df_produce = pd.DataFrame(res[\"produce\"])\n",
    "df_ship = pd.DataFrame(res[\"ship\"])\n",
    "df_short = pd.DataFrame(res[\"short\"])\n",
    "\n",
    "display(df_produce.head())\n",
    "display(df_ship.head())\n",
    "display(df_short.head())"
   ]
  }
 ],
 "metadata": {
  "kernelspec": {
   "display_name": "Python 3 (ipykernel)",
   "language": "python",
   "name": "python3"
  },
  "language_info": {
   "codemirror_mode": {
    "name": "ipython",
    "version": 3
   },
   "file_extension": ".py",
   "mimetype": "text/x-python",
   "name": "python",
   "nbconvert_exporter": "python",
   "pygments_lexer": "ipython3",
   "version": "3.12.10"
  }
 },
 "nbformat": 4,
 "nbformat_minor": 5
}
