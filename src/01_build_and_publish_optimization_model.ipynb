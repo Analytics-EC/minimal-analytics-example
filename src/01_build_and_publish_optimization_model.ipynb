{
 "cells": [
  {
   "cell_type": "markdown",
   "id": "47e5874c",
   "metadata": {},
   "source": [
    "# Producción y distribución — Modelo y Endpoint\n",
    "\n",
    "Optimización lineal (LP) para coordinar producción de papas fritas y asignación a Centros de Distribución (CD), y expone un endpoint **FastAPI** para consultar planes dado un set de parámetros (demanda, capacidades y costos)."
   ]
  },
  {
   "cell_type": "code",
   "execution_count": 19,
   "id": "46cde8e5",
   "metadata": {},
   "outputs": [],
   "source": [
    "# pip install pulp fastapi uvicorn pydantic pandas"
   ]
  },
  {
   "cell_type": "code",
   "execution_count": 4,
   "id": "00a3b480-35be-4147-8794-3b245894c147",
   "metadata": {},
   "outputs": [],
   "source": [
    "import json, math\n",
    "from typing import Dict, List\n",
    "import pandas as pd\n",
    "import pulp"
   ]
  },
  {
   "cell_type": "code",
   "execution_count": 2,
   "id": "184f2f02",
   "metadata": {},
   "outputs": [],
   "source": [
    "plants = pd.DataFrame({\n",
    "    \"plant\": [\"PlantA\", \"PlantB\"],\n",
    "    \"capacity_kg\": [120_000, 90_000],\n",
    "    \"prod_cost_per_kg\": [1.10, 1.25],\n",
    "    \"yield\": [0.95, 0.93],  # rendimiento neto (después de mermas)\n",
    "})\n",
    "\n",
    "dcs = pd.DataFrame({\n",
    "    \"dc\": [\"CD_Norte\", \"CD_Centro\", \"CD_Sur\"],\n",
    "    \"demand_kg\": [100_000, 60_000, 30_000]\n",
    "})\n",
    "\n",
    "# matriz de costos de transporte ($/kg)\n",
    "transport = pd.DataFrame([\n",
    "    [\"PlantA\", \"CD_Norte\", 0.20],\n",
    "    [\"PlantA\", \"CD_Centro\", 0.25],\n",
    "    [\"PlantA\", \"CD_Sur\",   0.35],\n",
    "    [\"PlantB\", \"CD_Norte\", 0.30],\n",
    "    [\"PlantB\", \"CD_Centro\",0.22],\n",
    "    [\"PlantB\", \"CD_Sur\",   0.28],\n",
    "], columns=[\"plant\",\"dc\",\"transp_cost_per_kg\"])\n",
    "\n",
    "penalty_stockout = 3.00  # $/kg no servido (proxy de penalización/SLA)"
   ]
  },
  {
   "cell_type": "code",
   "execution_count": 3,
   "id": "3c077b3e-fec1-4820-b9d3-ac4293311ca6",
   "metadata": {},
   "outputs": [
    {
     "data": {
      "text/plain": [
       "(    plant  capacity_kg  prod_cost_per_kg  yield\n",
       " 0  PlantA       120000              1.10   0.95\n",
       " 1  PlantB        90000              1.25   0.93,\n",
       "           dc  demand_kg\n",
       " 0   CD_Norte     100000\n",
       " 1  CD_Centro      60000\n",
       " 2     CD_Sur      30000,\n",
       "     plant         dc  transp_cost_per_kg\n",
       " 0  PlantA   CD_Norte                0.20\n",
       " 1  PlantA  CD_Centro                0.25\n",
       " 2  PlantA     CD_Sur                0.35\n",
       " 3  PlantB   CD_Norte                0.30\n",
       " 4  PlantB  CD_Centro                0.22)"
      ]
     },
     "execution_count": 3,
     "metadata": {},
     "output_type": "execute_result"
    }
   ],
   "source": [
    "plants, dcs, transport.head()"
   ]
  },
  {
   "cell_type": "markdown",
   "id": "8f1af10f",
   "metadata": {},
   "source": [
    "## Modelo LP (PuLP)\n",
    "\n",
    "**Decisiones**  \n",
    "- `produce[p]` = kg a producir en planta *p*  \n",
    "- `ship[p,d]` = kg enviados de planta *p* al CD *d*\n",
    "\n",
    "**Objetivo**  \n",
    "Minimizar `costo = producción + transporte + penalización por faltantes`\n",
    "\n",
    "**Restricciones**  \n",
    "- Capacidad por planta: `produce[p] ≤ capacity[p] * yield[p]`  \n",
    "- Balance planta: `produce[p] ≥ ∑_d ship[p,d]`  \n",
    "- Servicio por CD: `∑_p ship[p,d] + short[d] = demanda[d]` con `short[d] ≥ 0`"
   ]
  },
  {
   "cell_type": "code",
   "execution_count": 5,
   "id": "5c4eca82",
   "metadata": {},
   "outputs": [],
   "source": [
    "# Conjuntos\n",
    "P = plants[\"plant\"].tolist()\n",
    "D = dcs[\"dc\"].tolist()\n",
    "\n",
    "cap = dict(zip(plants[\"plant\"], plants[\"capacity_kg\"]*plants[\"yield\"]))\n",
    "c_prod = dict(zip(plants[\"plant\"], plants[\"prod_cost_per_kg\"]))\n",
    "\n",
    "c_transp = {(r.plant, r.dc): r.transp_cost_per_kg for r in transport.itertuples(index=False)}\n",
    "demand = dict(zip(dcs[\"dc\"], dcs[\"demand_kg\"]))"
   ]
  },
  {
   "cell_type": "code",
   "execution_count": 6,
   "id": "9aed3106-1a8c-4613-b896-ae4c0d3c1209",
   "metadata": {},
   "outputs": [],
   "source": [
    "# Modelo\n",
    "m = pulp.LpProblem(\"Snack_Prod_Distrib\", pulp.LpMinimize)"
   ]
  },
  {
   "cell_type": "code",
   "execution_count": 7,
   "id": "dc860dd7-5240-48b8-b4fb-76b6be9041a1",
   "metadata": {},
   "outputs": [],
   "source": [
    "# Variables\n",
    "produce = pulp.LpVariable.dicts(\"produce\", P, lowBound=0)\n",
    "ship = pulp.LpVariable.dicts(\"ship\", [(p,d) for p in P for d in D], lowBound=0)\n",
    "short = pulp.LpVariable.dicts(\"short\", D, lowBound=0)"
   ]
  },
  {
   "cell_type": "code",
   "execution_count": 8,
   "id": "e330e244-e59e-4ffc-a8ae-8a84db336e71",
   "metadata": {},
   "outputs": [],
   "source": [
    "# Objetivo\n",
    "m += (\n",
    "    pulp.lpSum(c_prod[p]*produce[p] for p in P) +\n",
    "    pulp.lpSum(c_transp.get((p,d), 1e6)*ship[(p,d)] for p in P for d in D) +\n",
    "    penalty_stockout*pulp.lpSum(short[d] for d in D)\n",
    ")"
   ]
  },
  {
   "cell_type": "code",
   "execution_count": 9,
   "id": "89822478-6512-4e79-b5d1-f4a9f9cbc207",
   "metadata": {},
   "outputs": [],
   "source": [
    "# Capacidad\n",
    "for p in P:\n",
    "    m += produce[p] <= cap[p], f\"cap_{p}\""
   ]
  },
  {
   "cell_type": "code",
   "execution_count": 10,
   "id": "2e8c0676-6fda-4182-9f8b-0684d5040d11",
   "metadata": {},
   "outputs": [],
   "source": [
    "# Balance planta\n",
    "for p in P:\n",
    "    m += produce[p] >= pulp.lpSum(ship[(p,d)] for d in D), f\"balance_{p}\""
   ]
  },
  {
   "cell_type": "code",
   "execution_count": 11,
   "id": "5a45c25d-8a88-42b7-a78b-7a586aea0b24",
   "metadata": {},
   "outputs": [],
   "source": [
    "# Satisfacción de demanda\n",
    "for d in D:\n",
    "    m += pulp.lpSum(ship[(p,d)] for p in P) + short[d] == demand[d], f\"demand_{d}\""
   ]
  },
  {
   "cell_type": "code",
   "execution_count": 12,
   "id": "c70cdb69-5861-4726-9c7c-0b0480288e8b",
   "metadata": {},
   "outputs": [
    {
     "name": "stdout",
     "output_type": "stream",
     "text": [
      "Status: Optimal\n",
      "Costo total: 262420.0\n"
     ]
    }
   ],
   "source": [
    "# Resolver\n",
    "m.solve(pulp.PULP_CBC_CMD(msg=False))\n",
    "\n",
    "status = pulp.LpStatus[m.status]\n",
    "total_cost = pulp.value(m.objective)\n",
    "\n",
    "print(\"Status:\", status)\n",
    "print(\"Costo total:\", round(total_cost,2))"
   ]
  },
  {
   "cell_type": "code",
   "execution_count": 13,
   "id": "30766945",
   "metadata": {},
   "outputs": [
    {
     "data": {
      "text/plain": [
       "(    plant  produce_kg\n",
       " 0  PlantA    114000.0\n",
       " 1  PlantB     76000.0,\n",
       "     plant         dc   ship_kg\n",
       " 0  PlantA   CD_Norte  100000.0\n",
       " 1  PlantA  CD_Centro   14000.0\n",
       " 2  PlantB  CD_Centro   46000.0\n",
       " 3  PlantB     CD_Sur   30000.0,\n",
       "           dc  short_kg\n",
       " 0   CD_Norte       0.0\n",
       " 1  CD_Centro       0.0\n",
       " 2     CD_Sur       0.0)"
      ]
     },
     "execution_count": 13,
     "metadata": {},
     "output_type": "execute_result"
    }
   ],
   "source": [
    "# Extraer resultados\n",
    "df_produce = pd.DataFrame({\n",
    "    \"plant\": P,\n",
    "    \"produce_kg\": [produce[p].value() for p in P]\n",
    "})\n",
    "\n",
    "rows = []\n",
    "for p in P:\n",
    "    for d in D:\n",
    "        val = ship[(p,d)].value()\n",
    "        if val and val > 1e-6:\n",
    "            rows.append([p,d,val])\n",
    "df_ship = pd.DataFrame(rows, columns=[\"plant\",\"dc\",\"ship_kg\"])\n",
    "\n",
    "df_short = pd.DataFrame({\n",
    "    \"dc\": D,\n",
    "    \"short_kg\": [short[d].value() for d in D]\n",
    "})\n",
    "\n",
    "df_produce, df_ship, df_short"
   ]
  },
  {
   "cell_type": "markdown",
   "id": "dc00f17e",
   "metadata": {},
   "source": [
    "## Persistencia de parámetros\n",
    "\n",
    "Guardamos parámetros base (capacidades, costos, etc.) para que el endpoint pueda reutilizarlos por defecto."
   ]
  },
  {
   "cell_type": "code",
   "execution_count": 14,
   "id": "022d2ada",
   "metadata": {},
   "outputs": [],
   "source": [
    "config = {\n",
    "    \"plants\": plants.to_dict(orient=\"records\"),\n",
    "    \"dcs\": dcs.to_dict(orient=\"records\"),\n",
    "    \"transport\": transport.to_dict(orient=\"records\"),\n",
    "    \"penalty_stockout\": penalty_stockout\n",
    "}"
   ]
  },
  {
   "cell_type": "code",
   "execution_count": 15,
   "id": "f4b831ca-de9c-4a3f-818c-1ebda41a1185",
   "metadata": {},
   "outputs": [
    {
     "name": "stdout",
     "output_type": "stream",
     "text": [
      "Guardado: model_config.json\n"
     ]
    }
   ],
   "source": [
    "with open(\"model_config.json\",\"w\") as f:\n",
    "    json.dump(config, f, indent=2)\n",
    "print(\"Guardado: model_config.json\")"
   ]
  },
  {
   "cell_type": "markdown",
   "id": "94703603",
   "metadata": {},
   "source": [
    "## Endpoint FastAPI\n",
    "\n",
    "- **POST** `/optimize`  \n",
    "  Cuerpo JSON con (opcional) nuevos parámetros; si faltan, se usan los valores por defecto en `model_config.json`."
   ]
  },
  {
   "cell_type": "code",
   "execution_count": 16,
   "id": "d193ed9c",
   "metadata": {},
   "outputs": [],
   "source": [
    "# Creamos un archivo app.py con el servicio FastAPI\n",
    "app_code = r'''\n",
    "import json\n",
    "from typing import List, Dict, Optional\n",
    "from fastapi import FastAPI\n",
    "from pydantic import BaseModel\n",
    "import pandas as pd\n",
    "import pulp\n",
    "\n",
    "# Cargar config por defecto\n",
    "with open(\"model_config.json\",\"r\") as f:\n",
    "    DEFAULT = json.load(f)\n",
    "\n",
    "class Plant(BaseModel):\n",
    "    plant: str\n",
    "    capacity_kg: float\n",
    "    prod_cost_per_kg: float\n",
    "    yield_: float = 1.0\n",
    "\n",
    "class DC(BaseModel):\n",
    "    dc: str\n",
    "    demand_kg: float\n",
    "\n",
    "class Transport(BaseModel):\n",
    "    plant: str\n",
    "    dc: str\n",
    "    transp_cost_per_kg: float\n",
    "\n",
    "class OptimizeRequest(BaseModel):\n",
    "    plants: Optional[List[Plant]] = None\n",
    "    dcs: Optional[List[DC]] = None\n",
    "    transport: Optional[List[Transport]] = None\n",
    "    penalty_stockout: Optional[float] = None\n",
    "\n",
    "app = FastAPI(title=\"Snack Production & Distribution Optimizer\")\n",
    "\n",
    "def to_df(lst, cols):\n",
    "    if lst is None: return None\n",
    "    df = pd.DataFrame([x.dict() for x in lst])\n",
    "    # Renombrar yield_->yield para consistencia interna\n",
    "    if \"yield_\" in df.columns:\n",
    "        df = df.rename(columns={\"yield_\":\"yield\"})\n",
    "    return df[cols]\n",
    "\n",
    "@app.post(\"/optimize\")\n",
    "def optimize(req: OptimizeRequest):\n",
    "    plants = to_df(req.plants, [\"plant\",\"capacity_kg\",\"prod_cost_per_kg\",\"yield\"]) \\\n",
    "             if req.plants is not None else pd.DataFrame(DEFAULT[\"plants\"])\n",
    "    dcs = to_df(req.dcs, [\"dc\",\"demand_kg\"]) \\\n",
    "          if req.dcs is not None else pd.DataFrame(DEFAULT[\"dcs\"])\n",
    "    transport = to_df(req.transport, [\"plant\",\"dc\",\"transp_cost_per_kg\"]) \\\n",
    "                if req.transport is not None else pd.DataFrame(DEFAULT[\"transport\"])\n",
    "    penalty = req.penalty_stockout if req.penalty_stockout is not None else DEFAULT[\"penalty_stockout\"]\n",
    "\n",
    "    P = plants[\"plant\"].tolist()\n",
    "    D = dcs[\"dc\"].tolist()\n",
    "\n",
    "    cap = dict(zip(plants[\"plant\"], plants[\"capacity_kg\"]*plants[\"yield\"]))\n",
    "    c_prod = dict(zip(plants[\"plant\"], plants[\"prod_cost_per_kg\"]))\n",
    "    c_transp = {(r.plant, r.dc): r.transp_cost_per_kg for r in transport.itertuples(index=False)}\n",
    "    demand = dict(zip(dcs[\"dc\"], dcs[\"demand_kg\"]))\n",
    "\n",
    "    m = pulp.LpProblem(\"Snack_Prod_Distrib\", pulp.LpMinimize)\n",
    "\n",
    "    produce = pulp.LpVariable.dicts(\"produce\", P, lowBound=0)\n",
    "    ship = pulp.LpVariable.dicts(\"ship\", [(p,d) for p in P for d in D], lowBound=0)\n",
    "    short = pulp.LpVariable.dicts(\"short\", D, lowBound=0)\n",
    "\n",
    "    m += (\n",
    "        pulp.lpSum(c_prod[p]*produce[p] for p in P) +\n",
    "        pulp.lpSum(c_transp.get((p,d), 1e6)*ship[(p,d)] for p in P for d in D) +\n",
    "        penalty*pulp.lpSum(short[d] for d in D)\n",
    "    )\n",
    "\n",
    "    for p in P:\n",
    "        m += produce[p] <= cap[p]\n",
    "        m += produce[p] >= pulp.lpSum(ship[(p,d)] for d in D)\n",
    "\n",
    "    for d in D:\n",
    "        m += pulp.lpSum(ship[(p,d)] for p in P) + short[d] == demand[d]\n",
    "\n",
    "    m.solve(pulp.PULP_CBC_CMD(msg=False))\n",
    "\n",
    "    res = {\n",
    "        \"status\": pulp.LpStatus[m.status],\n",
    "        \"total_cost\": pulp.value(m.objective),\n",
    "        \"produce\": [{ \"plant\": p, \"produce_kg\": produce[p].value() } for p in P],\n",
    "        \"ship\": [{ \"plant\": p, \"dc\": d, \"ship_kg\": ship[(p,d)].value() } for p in P for d in D],\n",
    "        \"short\": [{ \"dc\": d, \"short_kg\": short[d].value() } for d in D]\n",
    "    }\n",
    "    # Filtrar pequeñas tolerancias numéricas\n",
    "    res[\"ship\"] = [r for r in res[\"ship\"] if r[\"ship_kg\"] and r[\"ship_kg\"] > 1e-6]\n",
    "    return res\n",
    "'''"
   ]
  },
  {
   "cell_type": "code",
   "execution_count": 17,
   "id": "8cd22f8e-6a9d-47e8-bc3e-4d11c252f742",
   "metadata": {},
   "outputs": [],
   "source": [
    "with open(\"app.py\",\"w\", encoding=\"utf-8\") as f:\n",
    "    f.write(app_code)"
   ]
  },
  {
   "cell_type": "code",
   "execution_count": 18,
   "id": "7f216098-abc0-45e8-8b96-f137f981b5b3",
   "metadata": {},
   "outputs": [
    {
     "name": "stdout",
     "output_type": "stream",
     "text": [
      "Archivo 'app.py' generado. Para correr el servidor local:\n",
      "uvicorn app:app --reload --port 8000\n"
     ]
    }
   ],
   "source": [
    "print(\"Archivo 'app.py' generado. Para correr el servidor local:\")\n",
    "print(\"uvicorn app:app --reload --port 8000\")"
   ]
  }
 ],
 "metadata": {
  "kernelspec": {
   "display_name": "Python 3 (ipykernel)",
   "language": "python",
   "name": "python3"
  },
  "language_info": {
   "codemirror_mode": {
    "name": "ipython",
    "version": 3
   },
   "file_extension": ".py",
   "mimetype": "text/x-python",
   "name": "python",
   "nbconvert_exporter": "python",
   "pygments_lexer": "ipython3",
   "version": "3.12.10"
  }
 },
 "nbformat": 4,
 "nbformat_minor": 5
}
